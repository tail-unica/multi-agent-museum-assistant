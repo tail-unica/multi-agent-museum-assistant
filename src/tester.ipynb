{
 "cells": [
  {
   "cell_type": "code",
   "id": "initial_id",
   "metadata": {
    "collapsed": true,
    "ExecuteTime": {
     "end_time": "2024-12-11T23:50:08.929600Z",
     "start_time": "2024-12-11T23:50:07.761912Z"
    }
   },
   "source": [
    "from agents.retriever import Retriever\n",
    "from agents.profiling import get_user_info\n",
    "from agents.generation import Generator\n",
    "from config import config as cfg\n",
    "from orchestrator import Orchestrator"
   ],
   "outputs": [
    {
     "name": "stderr",
     "output_type": "stream",
     "text": [
      "USER_AGENT environment variable not set, consider setting it to identify your requests.\n"
     ]
    }
   ],
   "execution_count": 1
  },
  {
   "metadata": {
    "ExecuteTime": {
     "end_time": "2024-12-11T23:50:37.418008Z",
     "start_time": "2024-12-11T23:50:08.935834Z"
    }
   },
   "cell_type": "code",
   "source": "orchestrator = Orchestrator()",
   "id": "6f3d1c89c434fb94",
   "outputs": [
    {
     "name": "stdout",
     "output_type": "stream",
     "text": [
      "/media/Workspace/Projects/multi-agent-museum-assistant/src\n"
     ]
    },
    {
     "name": "stderr",
     "output_type": "stream",
     "text": [
      "/media/Workspace/Projects/multi-agent-museum-assistant/src/agents/retriever.py:49: LangChainDeprecationWarning: The class `OllamaEmbeddings` was deprecated in LangChain 0.3.1 and will be removed in 1.0.0. An updated version of the class exists in the :class:`~langchain-ollama package and should be used instead. To use it run `pip install -U :class:`~langchain-ollama` and import as `from :class:`~langchain_ollama import OllamaEmbeddings``.\n",
      "  embedding=embeddings.OllamaEmbeddings(model=embedding_model)\n",
      "/media/Workspace/Projects/multi-agent-museum-assistant/src/agents/generation.py:13: LangChainDeprecationWarning: The class `Ollama` was deprecated in LangChain 0.3.1 and will be removed in 1.0.0. An updated version of the class exists in the :class:`~langchain-ollama package and should be used instead. To use it run `pip install -U :class:`~langchain-ollama` and import as `from :class:`~langchain_ollama import OllamaLLM``.\n",
      "  self.model_local = Ollama(model=model_local)\n"
     ]
    }
   ],
   "execution_count": 2
  },
  {
   "metadata": {
    "ExecuteTime": {
     "end_time": "2024-12-11T23:50:37.554789Z",
     "start_time": "2024-12-11T23:50:37.552644Z"
    }
   },
   "cell_type": "code",
   "source": "question = \"Tell me something about yourself\"",
   "id": "46d8cfca1de1d3d7",
   "outputs": [],
   "execution_count": 4
  },
  {
   "metadata": {
    "ExecuteTime": {
     "end_time": "2024-12-12T00:02:22.287527Z",
     "start_time": "2024-12-11T23:51:01.160077Z"
    }
   },
   "cell_type": "code",
   "source": "orchestrator.generator.get_answer(question)",
   "id": "f6d72ed8f4fa47b",
   "outputs": [
    {
     "name": "stdout",
     "output_type": "stream",
     "text": [
      "<_contextvars.Context object at 0x7f5dd4585140>\n"
     ]
    },
    {
     "data": {
      "text/plain": [
       "\"I don't know. The provided context is a collection of documents with no personal information about myself.\""
      ]
     },
     "execution_count": 6,
     "metadata": {},
     "output_type": "execute_result"
    }
   ],
   "execution_count": 6
  },
  {
   "metadata": {
    "ExecuteTime": {
     "end_time": "2024-12-12T00:03:41.018152Z",
     "start_time": "2024-12-12T00:03:40.829802Z"
    }
   },
   "cell_type": "code",
   "source": [
    "import pickle\n",
    "with open(\"orchestrator.bin\", 'wb') as f:\n",
    "    pickle.dump(orchestrator,\n",
    "                f,\n",
    "                protocol=pickle.HIGHEST_PROTOCOL)"
   ],
   "id": "a528ffe9f7f9d6b0",
   "outputs": [
    {
     "ename": "TypeError",
     "evalue": "cannot pickle 'weakref.ReferenceType' object",
     "output_type": "error",
     "traceback": [
      "\u001B[0;31m---------------------------------------------------------------------------\u001B[0m",
      "\u001B[0;31mTypeError\u001B[0m                                 Traceback (most recent call last)",
      "Cell \u001B[0;32mIn[7], line 3\u001B[0m\n\u001B[1;32m      1\u001B[0m \u001B[38;5;28;01mimport\u001B[39;00m \u001B[38;5;21;01mpickle\u001B[39;00m\n\u001B[1;32m      2\u001B[0m \u001B[38;5;28;01mwith\u001B[39;00m \u001B[38;5;28mopen\u001B[39m(\u001B[38;5;124m\"\u001B[39m\u001B[38;5;124morchestrator.bin\u001B[39m\u001B[38;5;124m\"\u001B[39m, \u001B[38;5;124m'\u001B[39m\u001B[38;5;124mwb\u001B[39m\u001B[38;5;124m'\u001B[39m) \u001B[38;5;28;01mas\u001B[39;00m f:\n\u001B[0;32m----> 3\u001B[0m     \u001B[43mpickle\u001B[49m\u001B[38;5;241;43m.\u001B[39;49m\u001B[43mdump\u001B[49m\u001B[43m(\u001B[49m\u001B[43morchestrator\u001B[49m\u001B[43m,\u001B[49m\n\u001B[1;32m      4\u001B[0m \u001B[43m                \u001B[49m\u001B[43mf\u001B[49m\u001B[43m,\u001B[49m\n\u001B[1;32m      5\u001B[0m \u001B[43m                \u001B[49m\u001B[43mprotocol\u001B[49m\u001B[38;5;241;43m=\u001B[39;49m\u001B[43mpickle\u001B[49m\u001B[38;5;241;43m.\u001B[39;49m\u001B[43mHIGHEST_PROTOCOL\u001B[49m\u001B[43m)\u001B[49m\n",
      "\u001B[0;31mTypeError\u001B[0m: cannot pickle 'weakref.ReferenceType' object"
     ]
    }
   ],
   "execution_count": 7
  },
  {
   "metadata": {
    "ExecuteTime": {
     "end_time": "2024-12-12T03:06:29.357625Z",
     "start_time": "2024-12-12T03:06:29.244433Z"
    }
   },
   "cell_type": "code",
   "source": [
    "import chromadb\n",
    "\n",
    "chroma_client = chromadb.Client()"
   ],
   "id": "854f5506aa574bb6",
   "outputs": [],
   "execution_count": 7
  },
  {
   "metadata": {
    "ExecuteTime": {
     "end_time": "2024-12-12T03:07:43.729679Z",
     "start_time": "2024-12-12T03:07:43.727153Z"
    }
   },
   "cell_type": "code",
   "source": [
    "chroma_db_config = {\n",
    "    \"client\": \"PersistentClient\",\n",
    "    \"timeout\": 20,\n",
    "    \"path\": \"../tmp/chroma\"\n",
    "}"
   ],
   "id": "d4ee8edfb45f52d",
   "outputs": [],
   "execution_count": 9
  },
  {
   "metadata": {
    "ExecuteTime": {
     "end_time": "2024-12-12T03:12:11.614794Z",
     "start_time": "2024-12-12T03:12:11.606686Z"
    }
   },
   "cell_type": "code",
   "source": [
    "storage_path = \"../tmp/chroma\"\n",
    "if storage_path is None:\n",
    "    raise ValueError('STORAGE_PATH environment variable is not set')\n",
    "\n",
    "client = chromadb.PersistentClient(path=storage_path)\n",
    "\n",
    "collection = client.get_or_create_collection(name=\"test\")"
   ],
   "id": "10451ff762dfe02f",
   "outputs": [],
   "execution_count": 12
  },
  {
   "metadata": {
    "ExecuteTime": {
     "end_time": "2024-12-12T03:25:58.458035Z",
     "start_time": "2024-12-12T03:25:58.455636Z"
    }
   },
   "cell_type": "code",
   "source": [
    "x = \"\"\"Answer the question based only on the following context:\n",
    "        {context}. If the question does not match the context, just say that you don't know.  \n",
    "        Question: {question}\n",
    "        \"\"\""
   ],
   "id": "ec0647529dc40fbc",
   "outputs": [],
   "execution_count": 13
  }
 ],
 "metadata": {
  "kernelspec": {
   "display_name": "Python 3",
   "language": "python",
   "name": "python3"
  },
  "language_info": {
   "codemirror_mode": {
    "name": "ipython",
    "version": 2
   },
   "file_extension": ".py",
   "mimetype": "text/x-python",
   "name": "python",
   "nbconvert_exporter": "python",
   "pygments_lexer": "ipython2",
   "version": "2.7.6"
  }
 },
 "nbformat": 4,
 "nbformat_minor": 5
}
